{
 "cells": [
  {
   "cell_type": "code",
   "execution_count": 3,
   "id": "569bac92",
   "metadata": {},
   "outputs": [
    {
     "name": "stdout",
     "output_type": "stream",
     "text": [
      "      Unnamed: 0 Result     Margin   BR  Toss  Bat   Opposition      Ground  \\\n",
      "0            418    won    85 runs  NaN  lost  1st      v India     Kolkata   \n",
      "1            692   lost    85 runs  NaN   won  2nd   v Pakistan     Kolkata   \n",
      "2            419   lost    10 runs  NaN  lost  2nd      v India       Delhi   \n",
      "3            693    won    10 runs  NaN   won  1st   v Pakistan       Delhi   \n",
      "4            121   lost   107 runs  NaN  lost  2nd  v Australia   Melbourne   \n",
      "...          ...    ...        ...  ...   ...  ...          ...         ...   \n",
      "1317         997    won  3 wickets  3.0   won  2nd   v Pakistan  Nottingham   \n",
      "1318         282   aban          -  NaN     -    -   v Scotland   Edinburgh   \n",
      "1319        1322      -          -  NaN   won  2nd    v Ireland     Belfast   \n",
      "1320         559      -          -  NaN  lost  2nd    v England       Leeds   \n",
      "1321         998      -          -  NaN   won  1st   v Pakistan       Leeds   \n",
      "\n",
      "       Start Date     Match_ID      Country  Country_ID  \n",
      "0      3 Jan 2013   ODI # 3315     Pakistan           7  \n",
      "1      3 Jan 2013   ODI # 3315        India           6  \n",
      "2      6 Jan 2013   ODI # 3316     Pakistan           7  \n",
      "3      6 Jan 2013   ODI # 3316        India           6  \n",
      "4     11 Jan 2013   ODI # 3317     SriLanka           8  \n",
      "...           ...          ...          ...         ...  \n",
      "1317  17 May 2019   ODI # 4138      England           1  \n",
      "1318  18 May 2019  ODI # 4138a     SriLanka           8  \n",
      "1319  19 May 2019   ODI # 4139  Afghanistan          40  \n",
      "1320  19 May 2019   ODI # 4140     Pakistan           7  \n",
      "1321  19 May 2019   ODI # 4140      England           1  \n",
      "\n",
      "[1322 rows x 12 columns]\n"
     ]
    }
   ],
   "source": [
    "import pandas as pd\n",
    "pd =pd.read_csv('C:\\\\Users\\\\Welcome\\\\Desktop\\\\dsbdalpractical\\\\ODI_Match_Results.csv')\n",
    "print(pd)"
   ]
  },
  {
   "cell_type": "code",
   "execution_count": 5,
   "id": "0b5c8824",
   "metadata": {},
   "outputs": [
    {
     "data": {
      "text/plain": [
       "Unnamed: 0      0\n",
       "Result          0\n",
       "Margin          0\n",
       "BR            716\n",
       "Toss            0\n",
       "Bat             0\n",
       "Opposition      0\n",
       "Ground          0\n",
       "Start Date      0\n",
       "Match_ID        0\n",
       "Country         0\n",
       "Country_ID      0\n",
       "dtype: int64"
      ]
     },
     "execution_count": 5,
     "metadata": {},
     "output_type": "execute_result"
    }
   ],
   "source": [
    "pd.isnull().sum()"
   ]
  },
  {
   "cell_type": "code",
   "execution_count": 10,
   "id": "2bcf9015",
   "metadata": {},
   "outputs": [
    {
     "data": {
      "text/html": [
       "<div>\n",
       "<style scoped>\n",
       "    .dataframe tbody tr th:only-of-type {\n",
       "        vertical-align: middle;\n",
       "    }\n",
       "\n",
       "    .dataframe tbody tr th {\n",
       "        vertical-align: top;\n",
       "    }\n",
       "\n",
       "    .dataframe thead th {\n",
       "        text-align: right;\n",
       "    }\n",
       "</style>\n",
       "<table border=\"1\" class=\"dataframe\">\n",
       "  <thead>\n",
       "    <tr style=\"text-align: right;\">\n",
       "      <th></th>\n",
       "      <th>Unnamed: 0</th>\n",
       "      <th>BR</th>\n",
       "      <th>Country_ID</th>\n",
       "    </tr>\n",
       "  </thead>\n",
       "  <tbody>\n",
       "    <tr>\n",
       "      <th>count</th>\n",
       "      <td>1322.000000</td>\n",
       "      <td>606.000000</td>\n",
       "      <td>1322.000000</td>\n",
       "    </tr>\n",
       "    <tr>\n",
       "      <th>mean</th>\n",
       "      <td>661.500000</td>\n",
       "      <td>51.409241</td>\n",
       "      <td>8.560514</td>\n",
       "    </tr>\n",
       "    <tr>\n",
       "      <th>std</th>\n",
       "      <td>381.772838</td>\n",
       "      <td>55.924337</td>\n",
       "      <td>10.337003</td>\n",
       "    </tr>\n",
       "    <tr>\n",
       "      <th>min</th>\n",
       "      <td>1.000000</td>\n",
       "      <td>0.000000</td>\n",
       "      <td>1.000000</td>\n",
       "    </tr>\n",
       "    <tr>\n",
       "      <th>25%</th>\n",
       "      <td>331.250000</td>\n",
       "      <td>10.000000</td>\n",
       "      <td>3.000000</td>\n",
       "    </tr>\n",
       "    <tr>\n",
       "      <th>50%</th>\n",
       "      <td>661.500000</td>\n",
       "      <td>30.500000</td>\n",
       "      <td>5.000000</td>\n",
       "    </tr>\n",
       "    <tr>\n",
       "      <th>75%</th>\n",
       "      <td>991.750000</td>\n",
       "      <td>75.000000</td>\n",
       "      <td>8.000000</td>\n",
       "    </tr>\n",
       "    <tr>\n",
       "      <th>max</th>\n",
       "      <td>1322.000000</td>\n",
       "      <td>250.000000</td>\n",
       "      <td>40.000000</td>\n",
       "    </tr>\n",
       "  </tbody>\n",
       "</table>\n",
       "</div>"
      ],
      "text/plain": [
       "        Unnamed: 0          BR   Country_ID\n",
       "count  1322.000000  606.000000  1322.000000\n",
       "mean    661.500000   51.409241     8.560514\n",
       "std     381.772838   55.924337    10.337003\n",
       "min       1.000000    0.000000     1.000000\n",
       "25%     331.250000   10.000000     3.000000\n",
       "50%     661.500000   30.500000     5.000000\n",
       "75%     991.750000   75.000000     8.000000\n",
       "max    1322.000000  250.000000    40.000000"
      ]
     },
     "execution_count": 10,
     "metadata": {},
     "output_type": "execute_result"
    }
   ],
   "source": [
    "pd.describe()"
   ]
  },
  {
   "cell_type": "code",
   "execution_count": 12,
   "id": "a893fef3",
   "metadata": {},
   "outputs": [
    {
     "data": {
      "text/plain": [
       "(1322, 12)"
      ]
     },
     "execution_count": 12,
     "metadata": {},
     "output_type": "execute_result"
    }
   ],
   "source": [
    "pd.shape"
   ]
  },
  {
   "cell_type": "code",
   "execution_count": 14,
   "id": "2771af4f",
   "metadata": {},
   "outputs": [
    {
     "name": "stdout",
     "output_type": "stream",
     "text": [
      "   Unnamed: 0 Result    Margin  BR  Toss  Bat   Opposition     Ground  \\\n",
      "0         418    won   85 runs NaN  lost  1st      v India    Kolkata   \n",
      "1         692   lost   85 runs NaN   won  2nd   v Pakistan    Kolkata   \n",
      "2         419   lost   10 runs NaN  lost  2nd      v India      Delhi   \n",
      "3         693    won   10 runs NaN   won  1st   v Pakistan      Delhi   \n",
      "4         121   lost  107 runs NaN  lost  2nd  v Australia  Melbourne   \n",
      "\n",
      "    Start Date    Match_ID   Country  Country_ID  \n",
      "0   3 Jan 2013  ODI # 3315  Pakistan           7  \n",
      "1   3 Jan 2013  ODI # 3315     India           6  \n",
      "2   6 Jan 2013  ODI # 3316  Pakistan           7  \n",
      "3   6 Jan 2013  ODI # 3316     India           6  \n",
      "4  11 Jan 2013  ODI # 3317  SriLanka           8  \n"
     ]
    }
   ],
   "source": [
    "print(pd.head())"
   ]
  },
  {
   "cell_type": "code",
   "execution_count": 15,
   "id": "c5a7e6b0",
   "metadata": {},
   "outputs": [
    {
     "name": "stdout",
     "output_type": "stream",
     "text": [
      "Unnamed: 0      int64\n",
      "Result         object\n",
      "Margin         object\n",
      "BR            float64\n",
      "Toss           object\n",
      "Bat            object\n",
      "Opposition     object\n",
      "Ground         object\n",
      "Start Date     object\n",
      "Match_ID       object\n",
      "Country        object\n",
      "Country_ID      int64\n",
      "dtype: object\n"
     ]
    }
   ],
   "source": [
    "print(pd.dtypes)"
   ]
  },
  {
   "cell_type": "code",
   "execution_count": null,
   "id": "14578466",
   "metadata": {},
   "outputs": [],
   "source": []
  }
 ],
 "metadata": {
  "kernelspec": {
   "display_name": "Python 3 (ipykernel)",
   "language": "python",
   "name": "python3"
  },
  "language_info": {
   "codemirror_mode": {
    "name": "ipython",
    "version": 3
   },
   "file_extension": ".py",
   "mimetype": "text/x-python",
   "name": "python",
   "nbconvert_exporter": "python",
   "pygments_lexer": "ipython3",
   "version": "3.11.4"
  }
 },
 "nbformat": 4,
 "nbformat_minor": 5
}
